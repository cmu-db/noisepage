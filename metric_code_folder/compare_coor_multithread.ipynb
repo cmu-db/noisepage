{
 "cells": [
  {
   "cell_type": "code",
   "execution_count": 1,
   "metadata": {},
   "outputs": [],
   "source": [
    "import pandas as pd\n",
    "import numpy as np\n",
    "import matplotlib.pyplot as plt\n",
    "import json"
   ]
  },
  {
   "cell_type": "code",
   "execution_count": 2,
   "metadata": {},
   "outputs": [],
   "source": [
    "dir_name = '../daf_metric_results_folder_0817/{}DAF_TPCC_08172020/'\n",
    "num_daf_threads = [0, 4, 8]\n",
    "num_threads = [8, 12, 16, 20, 24, 28]\n",
    "result_filename = '{}daf_{}worker_result.json'\n",
    "coor_result_filename = '../coor_metric_results_folder_0817/coor_{}worker_result.json'\n",
    "output_format = 'pdf'"
   ]
  },
  {
   "cell_type": "code",
   "execution_count": 3,
   "metadata": {},
   "outputs": [],
   "source": [
    "def read_daf_txns_per_second(num_daf_t, num_worker_t):\n",
    "    try:\n",
    "        with open(dir_name.format(num_daf_t) + result_filename.format(num_daf_t, num_worker_t)) as f:\n",
    "            json_data = json.load(f)\n",
    "        return json_data['benchmarks'][0]['items_per_second']    \n",
    "    except IOError as error: \n",
    "        return np.nan"
   ]
  },
  {
   "cell_type": "code",
   "execution_count": 4,
   "metadata": {},
   "outputs": [],
   "source": [
    "def read_txns_per_second(filename, num_worker_t):\n",
    "    try:\n",
    "        with open(filename.format(num_worker_t)) as f:\n",
    "            json_data = json.load(f)\n",
    "        return json_data['benchmarks'][0]['items_per_second']    \n",
    "    except IOError as error: \n",
    "        return np.nan"
   ]
  },
  {
   "cell_type": "code",
   "execution_count": 5,
   "metadata": {},
   "outputs": [],
   "source": [
    "def change_font_sizes():\n",
    "    plt.rc('font', size=6)          # controls default text sizes\n",
    "    plt.rc('axes', titlesize=6)     # fontsize of the axes title\n",
    "    plt.rc('axes', labelsize=6)    # fontsize of the x and y labels\n",
    "    plt.rc('xtick', labelsize=6)    # fontsize of the tick labels\n",
    "    plt.rc('ytick', labelsize=6)    # fontsize of the tick labels\n",
    "    plt.rc('legend', fontsize=6)    # legend fontsize\n",
    "    plt.rc('figure', titlesize=6)  # fontsize of the figure title"
   ]
  },
  {
   "cell_type": "code",
   "execution_count": 6,
   "metadata": {},
   "outputs": [
    {
     "name": "stdout",
     "output_type": "stream",
     "text": [
      "   num_threads  Cooperative DAF  4 DAF Threads  8 DAF Threads\n",
      "0            8    139673.826696   87654.230358            NaN\n",
      "1           12    187494.707961  161267.563046   80255.694643\n",
      "2           16    227264.979603  153471.903129  142665.054552\n",
      "3           20    228917.093382  121744.106063  178144.936508\n",
      "4           24    216348.570138  124448.343826  177993.743520\n",
      "5           28    223926.484913  119699.506239  180037.245205\n"
     ]
    }
   ],
   "source": [
    "# read in num txns\n",
    "ave_num_txns = [[0] * len(num_threads) for _ in range(len(num_daf_threads))]\n",
    "column_names = ['Cooperative DAF', '4 DAF Threads', '8 DAF Threads']\n",
    "\n",
    "i = 0\n",
    "for daf_count in num_daf_threads:\n",
    "    j = 0\n",
    "    for total_count in num_threads:\n",
    "        worker_count = total_count - daf_count\n",
    "        if daf_count == 0:\n",
    "            ave_num_txns[i][j] = read_txns_per_second(coor_result_filename, total_count)\n",
    "        else:\n",
    "            ave_num_txns[i][j] = read_daf_txns_per_second(daf_count, worker_count)\n",
    "        j += 1\n",
    "    i += 1\n",
    "df = pd.DataFrame(np.transpose(np.array(ave_num_txns)),columns=column_names)\n",
    "df.insert(loc=0, column='num_threads', value=num_threads)\n",
    "print(df)"
   ]
  },
  {
   "cell_type": "code",
   "execution_count": 7,
   "metadata": {},
   "outputs": [
    {
     "name": "stdout",
     "output_type": "stream",
     "text": [
      "[6.0, 4.0]\n"
     ]
    },
    {
     "data": {
      "image/png": "[encoded data removed]",
      "text/plain": [
       "<Figure size 432x288 with 1 Axes>"
      ]
     },
     "metadata": {
      "needs_background": "light"
     },
     "output_type": "display_data"
    }
   ],
   "source": [
    "# draw only num_txns\n",
    "# change_font_sizes()\n",
    "colors = ['#1b9e77', '#d95f02', '#7570b3']\n",
    "ax = plt.gca()\n",
    "ax.set_xticks(num_threads)\n",
    "plt.locator_params(axis='y', nbins=5)\n",
    "plt.grid(linestyle='-', linewidth='0.3', color='lightgrey')\n",
    "\n",
    "i = 0\n",
    "for col in column_names:\n",
    "    plt.plot( 'num_threads', col, data=df, marker='.', color=colors[i], linewidth=1.)\n",
    "    i += 1\n",
    "plt.xlabel('Total Number Of Threads')\n",
    "plt.ylabel('Throughput (txn/sec)')\n",
    "plt.legend(loc='best', ncol=2, framealpha=0.5)\n",
    "\n",
    "# plt.legend(loc='lower left', bbox_to_anchor=(0., 1.02, 1., .102), fancybox=True, shadow=True, ncol=3, mode='expand', borderaxespad=0.)\n",
    "# use below if y axis labels in scientific notations\n",
    "# plt.legend(loc='lower left', bbox_to_anchor=(0.08, 1.02, 0.92, .102), fancybox=True, shadow=True, ncol=2, mode='expand', borderaxespad=0.)\n",
    "plt.savefig('../metric_figures/coor_vs_multi_same_total_num_threads.' + output_format, format=output_format,  bbox_inches='tight', dpi=600)\n",
    "# plt.clf()\n",
    "print(plt.rcParams[\"figure.figsize\"])"
   ]
  },
  {
   "cell_type": "code",
   "execution_count": null,
   "metadata": {},
   "outputs": [],
   "source": []
  },
  {
   "cell_type": "code",
   "execution_count": null,
   "metadata": {},
   "outputs": [],
   "source": []
  }
 ],
 "metadata": {
  "kernelspec": {
   "display_name": "Python 3",
   "language": "python",
   "name": "python3"
  },
  "language_info": {
   "codemirror_mode": {
    "name": "ipython",
    "version": 3
   },
   "file_extension": ".py",
   "mimetype": "text/x-python",
   "name": "python",
   "nbconvert_exporter": "python",
   "pygments_lexer": "ipython3",
   "version": "3.6.9"
  }
 },
 "nbformat": 4,
 "nbformat_minor": 4
}
