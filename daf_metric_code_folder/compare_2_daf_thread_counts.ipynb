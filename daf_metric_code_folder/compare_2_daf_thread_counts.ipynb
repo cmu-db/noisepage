{
 "cells": [
  {
   "cell_type": "code",
   "execution_count": 1,
   "metadata": {},
   "outputs": [],
   "source": [
    "import pandas as pd\n",
    "import matplotlib.pyplot as plt\n",
    "import seaborn as sns"
   ]
  },
  {
   "cell_type": "code",
   "execution_count": 2,
   "metadata": {},
   "outputs": [],
   "source": [
    "thread_count_csv = '1thread.csv'\n",
    "thread_count_eps = '1WorkerThread.eps'\n",
    "dir_name_one = '../build/DAF_1thread_metric_TPCC_0731/'\n",
    "thread_count_one = '1_vs_'\n",
    "dir_name_two = '../build/DAF_2thread_metric_TPCC_0731/'\n",
    "thread_count_two = '2_'"
   ]
  },
  {
   "cell_type": "code",
   "execution_count": 3,
   "metadata": {},
   "outputs": [],
   "source": [
    "# read in one daf thread version\n",
    "df1 = pd.read_csv (dir_name_one + 'daf_count_agg_woLogging_' + thread_count_csv, header=0, skipinitialspace=True)\n",
    "# read in two daf thread version\n",
    "df2 = pd.read_csv (dir_name_two + 'daf_count_agg_woLogging_' + thread_count_csv, header=0, skipinitialspace=True)"
   ]
  },
  {
   "cell_type": "code",
   "execution_count": 4,
   "metadata": {},
   "outputs": [],
   "source": [
    "# clean up the two data remove zero rows at the end\n",
    "for index, row in df1[::-1].iterrows():\n",
    "    if row['total_num_actions'] == 0 and row['total_num_txns'] == 0:\n",
    "        df1 = df1.drop(df1.index[[index]])\n",
    "    else:\n",
    "        break\n",
    "for index, row in df2[::-1].iterrows():\n",
    "    if row['total_num_actions'] == 0 and row['total_num_txns'] == 0:\n",
    "        df2 = df2.drop(df2.index[[index]])\n",
    "    else:\n",
    "        break"
   ]
  },
  {
   "cell_type": "code",
   "execution_count": 5,
   "metadata": {},
   "outputs": [],
   "source": [
    "# match up the time\n",
    "start_time1 = df1.iloc[ 0 , : ]['start_time']\n",
    "for index, row in df1.iterrows():\n",
    "    row['start_time'] -= start_time1\n",
    "    \n",
    "start_time2 = df2.iloc[ 0 , : ]['start_time']\n",
    "for index, row in df2.iterrows():\n",
    "    row['start_time'] -= start_time2"
   ]
  },
  {
   "cell_type": "code",
   "execution_count": 6,
   "metadata": {},
   "outputs": [],
   "source": [
    "def change_font_sizes():\n",
    "    plt.rc('font', size=6)          # controls default text sizes\n",
    "    plt.rc('axes', titlesize=6)     # fontsize of the axes title\n",
    "    plt.rc('axes', labelsize=6)    # fontsize of the x and y labels\n",
    "    plt.rc('xtick', labelsize=6)    # fontsize of the tick labels\n",
    "    plt.rc('ytick', labelsize=6)    # fontsize of the tick labels\n",
    "    plt.rc('legend', fontsize=6)    # legend fontsize\n",
    "    plt.rc('figure', titlesize=6)  # fontsize of the figure title"
   ]
  },
  {
   "cell_type": "code",
   "execution_count": 7,
   "metadata": {},
   "outputs": [
    {
     "name": "stderr",
     "output_type": "stream",
     "text": [
      "The PostScript backend does not support transparency; partially transparent artists will be rendered opaque.\n",
      "The PostScript backend does not support transparency; partially transparent artists will be rendered opaque.\n"
     ]
    },
    {
     "data": {
      "text/plain": [
       "<Figure size 432x288 with 0 Axes>"
      ]
     },
     "metadata": {},
     "output_type": "display_data"
    }
   ],
   "source": [
    "# draw num_actions, and num_txn\n",
    "change_font_sizes()\n",
    "\n",
    "plt.locator_params(axis='x', nbins=20)\n",
    "plt.plot( 'start_time', 'total_num_actions', data=df1, marker='', color='skyblue', linewidth=1, label='1_daf_thread_total_num_actions')\n",
    "plt.plot( 'start_time', 'total_num_txns', data=df1, marker='', color='royalblue', linewidth=1.5, label='1_daf_thread_total_num_txns')\n",
    "\n",
    "plt.plot( 'start_time', 'total_num_actions', data=df2, marker='', color='pink', linewidth=1, label='2_daf_threads_total_num_actions')\n",
    "plt.plot( 'start_time', 'total_num_txns', data=df2, marker='', color='red', linewidth=1.5, label='2_daf_threads_total_num_txns')\n",
    "plt.legend(loc='lower left', bbox_to_anchor=(0., 1.02, 1., .102), fancybox=True, shadow=True, ncol=2, mode='expand', borderaxespad=0.)\n",
    "plt.savefig('../daf_metric_results_folder/' + thread_count_one + thread_count_two + 'daf_thread_TPCC' + thread_count_eps, format='eps')\n",
    "plt.clf()"
   ]
  },
  {
   "cell_type": "code",
   "execution_count": 8,
   "metadata": {},
   "outputs": [],
   "source": [
    "# per second \n",
    "df1['num_actions_per_sec'] = 0\n",
    "df1['num_txns_per_sec'] = 0\n",
    "prev_time = df1.iloc[ 0 , : ]['start_time']\n",
    "for index, row in df1.iterrows():\n",
    "    interval = row['start_time'] - prev_time\n",
    "    if interval == 0:\n",
    "        continue\n",
    "    row['num_actions_per_sec'] = (row['total_num_actions'] * 1000000) / interval \n",
    "    row['num_txns_per_sec'] = (row['total_num_txns'] * 1000000) / interval\n",
    "    prev_time = row['start_time']\n",
    "df2['num_actions_per_sec'] = 0\n",
    "df2['num_txns_per_sec'] = 0\n",
    "prev_time = df2.iloc[ 0 , : ]['start_time']\n",
    "for index, row in df2.iterrows():\n",
    "    interval = row['start_time'] - prev_time\n",
    "    if interval == 0:\n",
    "        continue\n",
    "    row['num_actions_per_sec'] = (row['total_num_actions'] * 1000000) / interval \n",
    "    row['num_txns_per_sec'] = (row['total_num_txns'] * 1000000) / interval\n",
    "    prev_time = row['start_time']    "
   ]
  },
  {
   "cell_type": "code",
   "execution_count": 9,
   "metadata": {},
   "outputs": [
    {
     "name": "stderr",
     "output_type": "stream",
     "text": [
      "The PostScript backend does not support transparency; partially transparent artists will be rendered opaque.\n",
      "The PostScript backend does not support transparency; partially transparent artists will be rendered opaque.\n"
     ]
    },
    {
     "data": {
      "text/plain": [
       "<Figure size 432x288 with 0 Axes>"
      ]
     },
     "metadata": {},
     "output_type": "display_data"
    }
   ],
   "source": [
    "# draw total_num_actions, and num_txn\n",
    "plt.locator_params(axis='x', nbins=20)\n",
    "plt.locator_params(axis='y', nbins=10)\n",
    "plt.xlabel('time(microseconds)')\n",
    "plt.ylabel('number processed per second')\n",
    "plt.plot( 'start_time', 'num_actions_per_sec', data=df1, marker='', color='skyblue', linewidth=1, label='1_daf_thread_num_actions/second')\n",
    "plt.plot( 'start_time', 'num_txns_per_sec', data=df1, marker='', color='royalblue', linewidth=1.5, label='1_daf_thread_num_txns/second')\n",
    "\n",
    "plt.plot( 'start_time', 'num_actions_per_sec', data=df2, marker='', color='pink', linewidth=1, label='2_daf_threads_num_actions/second')\n",
    "plt.plot( 'start_time', 'num_txns_per_sec', data=df2, marker='', color='red', linewidth=1.5, label='2_daf_threads_num_txns/second')\n",
    "\n",
    "plt.legend(loc='lower left', bbox_to_anchor=(0., 1.02, 1., .102), fancybox=True, shadow=True, ncol=2, mode='expand', borderaxespad=0.)\n",
    "plt.savefig('../daf_metric_results_folder/' + 'per_second_' + thread_count_one + thread_count_two + 'daf_thread_TPCC' + thread_count_eps, format='eps')\n",
    "plt.clf()    "
   ]
  }
 ],
 "metadata": {
  "kernelspec": {
   "display_name": "Python 3",
   "language": "python",
   "name": "python3"
  },
  "language_info": {
   "codemirror_mode": {
    "name": "ipython",
    "version": 3
   },
   "file_extension": ".py",
   "mimetype": "text/x-python",
   "name": "python",
   "nbconvert_exporter": "python",
   "pygments_lexer": "ipython3",
   "version": "3.6.9"
  }
 },
 "nbformat": 4,
 "nbformat_minor": 4
}
